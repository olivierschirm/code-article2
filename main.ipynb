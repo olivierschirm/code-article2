{
 "cells": [
  {
   "attachments": {},
   "cell_type": "markdown",
   "metadata": {},
   "source": [
    "# Visorando road map inference from GPS trajectory using UNet\n",
    "\n",
    "## Inputs import and configuration\n",
    "- **Training configuration**:\n",
    "    - Choose number of epochs and batch size.\n",
    "    - Choose network architecture and loss function.\n",
    "    - Choose number of units for the first layer.\n",
    "\n",
    "- **Data configuration**:\n",
    "    - Choose your training datasets assuming they have been created with _createDataset.py_ and _createTruth.py_.\n",
    "    - Choose your training resolution assuming they exist.\n",
    "    - Choose your channels. Comment the ones you don't want to train on.\n",
    "    - Choose image size.\n",
    "    - Choose if you want augmentation.\n"
   ]
  },
  {
   "cell_type": "code",
   "execution_count": null,
   "metadata": {},
   "outputs": [],
   "source": [
    "from imageTiling import preprocessTrainData, preprocessTestData, loadPatches\n",
    "from nn import trainModel, loadModel, doPredictions\n",
    "from definitions import loadRaster, convertResultToRaster\n",
    "from converter import resultToGeojson\n",
    "from evaluator import main_eval\n",
    "\n",
    "confTraining = {\n",
    "    'epoch' : 20,\n",
    "    'batch_size' : 1,\n",
    "    'network' : 'Inception',\n",
    "    'loss' : 'dice_loss',\n",
    "    'units' : 64\n",
    "}\n",
    "\n",
    "confData = {\n",
    "    'datasets' : [\n",
    "        'labaroche',\n",
    "        'hunawihr',\n",
    "        'linthal',\n",
    "        'blaesheim',\n",
    "        'haguenau',\n",
    "    ],\n",
    "    'resolutions' : [\n",
    "        2.2,\n",
    "        2.7,\n",
    "        3.1\n",
    "    ],\n",
    "    'channels' : [\n",
    "        # 'binary',\n",
    "        'heatmap',\n",
    "        # 'distance',\n",
    "        # 'speed',\n",
    "        # 'acceleration',\n",
    "        # 'altitude',\n",
    "        # 'slope',\n",
    "        # 'bearing1',\n",
    "        # 'bearing2',\n",
    "        # 'bearing3',\n",
    "        # 'bearing4',\n",
    "        # 'bearing5',\n",
    "        # 'bearing6',\n",
    "        # 'bearing7',\n",
    "        # 'bearing8',\n",
    "        # 'bearing_deviation',\n",
    "        # 'bearing_difference',\n",
    "    ],\n",
    "    'image_size' : 512,\n",
    "    'augment' : True,\n",
    "}"
   ]
  },
  {
   "attachments": {},
   "cell_type": "markdown",
   "metadata": {},
   "source": [
    "## Training\n",
    "### Convert data into patches"
   ]
  },
  {
   "cell_type": "code",
   "execution_count": null,
   "metadata": {},
   "outputs": [],
   "source": [
    "preprocessTrainData(confData, output_dir='train_examples')"
   ]
  },
  {
   "attachments": {},
   "cell_type": "markdown",
   "metadata": {},
   "source": [
    "### Train the model and save it"
   ]
  },
  {
   "cell_type": "code",
   "execution_count": null,
   "metadata": {},
   "outputs": [],
   "source": [
    "model, _ = trainModel(confTraining, confData, train_directory='train_examples')\n",
    "model.save('path')"
   ]
  },
  {
   "attachments": {},
   "cell_type": "markdown",
   "metadata": {},
   "source": [
    "## Do Predictions\n",
    "1) First step is to choose the dataset/resolution you want to predict"
   ]
  },
  {
   "cell_type": "code",
   "execution_count": null,
   "metadata": {},
   "outputs": [],
   "source": [
    "dataset = 'ribeauville'\n",
    "resolution = 2.7\n",
    "raster = loadRaster(dataset, resolution)"
   ]
  },
  {
   "attachments": {},
   "cell_type": "markdown",
   "metadata": {},
   "source": [
    "2) Load the model you want to predict with"
   ]
  },
  {
   "cell_type": "code",
   "execution_count": null,
   "metadata": {},
   "outputs": [],
   "source": [
    "model = loadModel('models/modelResUnet_size512_iteration2', confTraining)"
   ]
  },
  {
   "attachments": {},
   "cell_type": "markdown",
   "metadata": {},
   "source": [
    "3) Define a **pas** and a **pad**.\n",
    "\n",
    "For prediction, we don't tile the raster with a fixed patch size of (X, X). Instead, we tile it with a higher frequency to enable multiple predictions of same zones. The parameter **pas** is used to define the spacing between each patch, and **pad** is used when merging the predictions that overlap to retain only the patch centers."
   ]
  },
  {
   "cell_type": "code",
   "execution_count": null,
   "metadata": {},
   "outputs": [],
   "source": [
    "pas = confData['image_size'] / 4\n",
    "pad = 20"
   ]
  },
  {
   "attachments": {},
   "cell_type": "markdown",
   "metadata": {},
   "source": [
    "4) Preprocess the test data\n",
    "\n",
    "This create the test data. Here you can specify if you want to permute a channel by adding a value to the parameter **channelToPermute**"
   ]
  },
  {
   "cell_type": "code",
   "execution_count": null,
   "metadata": {},
   "outputs": [],
   "source": [
    "preprocessTestData(raster, confData, pas, output_directory='test_examples')"
   ]
  },
  {
   "attachments": {},
   "cell_type": "markdown",
   "metadata": {},
   "source": [
    "5) Generate result in raster and Geojson"
   ]
  },
  {
   "cell_type": "code",
   "execution_count": null,
   "metadata": {},
   "outputs": [],
   "source": [
    "patchs = loadPatches(confData, directory='test_examples')\n",
    "result = doPredictions(patchs, model, confData, pas, pad=20)\n",
    "result_raster = convertResultToRaster(result, raster)\n",
    "result_geojson = resultToGeojson(result_raster, levels=[0.15,1])"
   ]
  },
  {
   "attachments": {},
   "cell_type": "markdown",
   "metadata": {},
   "source": [
    "## Evaluation\n",
    "\n",
    "Here is your evaluation process. It evaluate intersections, segments and connectivity "
   ]
  },
  {
   "cell_type": "code",
   "execution_count": null,
   "metadata": {},
   "outputs": [],
   "source": [
    "prediction_path='result.geojson'\n",
    "truth_path='truthhome.geojson'\n",
    "\n",
    "FINT, FTOP, FITO = main_eval(prediction_path, truth_path)\n",
    "print(FINT, FTOP, FITO)"
   ]
  }
 ],
 "metadata": {
  "kernelspec": {
   "display_name": "base",
   "language": "python",
   "name": "python3"
  },
  "language_info": {
   "codemirror_mode": {
    "name": "ipython",
    "version": 3
   },
   "file_extension": ".py",
   "mimetype": "text/x-python",
   "name": "python",
   "nbconvert_exporter": "python",
   "pygments_lexer": "ipython3",
   "version": "3.9.12"
  },
  "orig_nbformat": 4
 },
 "nbformat": 4,
 "nbformat_minor": 2
}
